{
 "cells": [
  {
   "cell_type": "markdown",
   "id": "a019fc20-f8e9-4d3c-9aa3-11bbffe01d6c",
   "metadata": {},
   "source": [
    "# Companion Notebook -- Kerem Uysal"
   ]
  },
  {
   "cell_type": "code",
   "execution_count": 56,
   "id": "26ec2055-c01f-42f5-ac50-af0faee0e7ca",
   "metadata": {},
   "outputs": [],
   "source": [
    "import pandas as pd\n",
    "import altair as alt\n",
    "import geopandas as gpd\n",
    "import seaborn as sns\n",
    "import matplotlib.pyplot as plt\n",
    "import re\n",
    "import numpy as np\n",
    "import plotly.express as px\n",
    "from shapely.geometry import Point\n",
    "import plotly.graph_objs as go\n",
    "import plotly.subplots as tls"
   ]
  },
  {
   "cell_type": "markdown",
   "id": "f6511fa2-be6e-4618-a3e3-00bc8c50c3bd",
   "metadata": {},
   "source": [
    "# The Data"
   ]
  },
  {
   "cell_type": "markdown",
   "id": "0634ad16-1c1d-409c-9e1e-7dc1ff79f939",
   "metadata": {},
   "source": [
    "# Dataset Overview\n",
    "The dataset used in this project is a historical compilation of the modern Olympic Games, spanning from the first Games in Athens in 1896 to the 2016 Games in Rio de Janeiro. This dataset captures the essence of the Olympic competitions through the years, detailing the events, athletes, results, and medal distributions.\n",
    "# Source\n",
    "The data was originally scraped from sports-reference.com in May 2018. The comprehensive scraping and data wrangling efforts were undertaken by Kaggle user **RGRIFFIN**, whose R scripts and methodologies are available on GitHub. The dataset can be accessed directly on Kaggle with the link below.\n",
    "https://www.kaggle.com/datasets/heesoo37/120-years-of-olympic-history-athletes-and-results\n",
    "## 1. Athlete Events Dataset (`athlete_events.csv`)\n",
    "\n",
    "\n",
    "**Features:**\n",
    "\n",
    "- **ID**: Unique number for each athlete\n",
    "- **Name**: Athlete's name\n",
    "- **Sex**: Gender of the athlete (M or F)\n",
    "- **Age**: Age of the athlete at the time of competition\n",
    "- **Height**: Height of the athlete in centimeters\n",
    "- **Weight**: Weight of the athlete in kilograms\n",
    "- **Team**: Name of the team the athlete represents (can be a country or a region)\n",
    "- **NOC**: National Olympic Committee 3-letter code\n",
    "- **Games**: The year and season of the Olympics\n",
    "- **Year**: Year of the Olympics\n",
    "- **Season**: Season of the Olympics (Summer or Winter)\n",
    "- **City**: Host city of the Olympics\n",
    "- **Sport**: Sport in which the athlete competed\n",
    "- **Event**: Specific event in which the athlete competed\n",
    "- **Medal**: Type of medal won (Gold, Silver, Bronze, or NA if no medal was won)\n",
    "\n",
    "## 2. NOC Regions Dataset (`noc_regions.csv`)\n",
    "\n",
    "This dataset provides information about the National Olympic Committees, including a mapping of the NOC codes to the corresponding country or region names, along with additional regional information.\n",
    "\n",
    "**Features:**\n",
    "\n",
    "- **NOC**: National Olympic Committee 3-letter code\n",
    "- **region**: Corresponding geographical region or country\n",
    "- **notes**: Additional notes or historical changes concerning the region or NOC code\n",
    "\n",
    "### Relevance to Project\n",
    "The dataset is really important for our project because it gives a detailed look at how female athletes have taken part and performed in the Olympics over the years. By studying this data, we can learn about trends, see how much progress has been made in gender equality in sports, and understand how different countries have supported their female athletes in the Olympic Games."
   ]
  },
  {
   "cell_type": "code",
   "execution_count": 57,
   "id": "5830486f-945b-4d64-a17d-e27abf567f38",
   "metadata": {},
   "outputs": [],
   "source": [
    "# Load the datasets\n",
    "athletes = pd.read_csv('athlete_events.csv')\n",
    "regions = pd.read_csv('noc_regions.csv')"
   ]
  },
  {
   "cell_type": "code",
   "execution_count": 58,
   "id": "56f1f88c-2a09-4511-9809-d40f81b39824",
   "metadata": {},
   "outputs": [
    {
     "data": {
      "text/html": [
       "<div>\n",
       "<style scoped>\n",
       "    .dataframe tbody tr th:only-of-type {\n",
       "        vertical-align: middle;\n",
       "    }\n",
       "\n",
       "    .dataframe tbody tr th {\n",
       "        vertical-align: top;\n",
       "    }\n",
       "\n",
       "    .dataframe thead th {\n",
       "        text-align: right;\n",
       "    }\n",
       "</style>\n",
       "<table border=\"1\" class=\"dataframe\">\n",
       "  <thead>\n",
       "    <tr style=\"text-align: right;\">\n",
       "      <th></th>\n",
       "      <th>ID</th>\n",
       "      <th>Name</th>\n",
       "      <th>Sex</th>\n",
       "      <th>Age</th>\n",
       "      <th>Height</th>\n",
       "      <th>Weight</th>\n",
       "      <th>Team</th>\n",
       "      <th>NOC</th>\n",
       "      <th>Games</th>\n",
       "      <th>Year</th>\n",
       "      <th>Season</th>\n",
       "      <th>City</th>\n",
       "      <th>Sport</th>\n",
       "      <th>Event</th>\n",
       "      <th>Medal</th>\n",
       "    </tr>\n",
       "  </thead>\n",
       "  <tbody>\n",
       "    <tr>\n",
       "      <th>0</th>\n",
       "      <td>1</td>\n",
       "      <td>A Dijiang</td>\n",
       "      <td>M</td>\n",
       "      <td>24.0</td>\n",
       "      <td>180.0</td>\n",
       "      <td>80.0</td>\n",
       "      <td>China</td>\n",
       "      <td>CHN</td>\n",
       "      <td>1992 Summer</td>\n",
       "      <td>1992</td>\n",
       "      <td>Summer</td>\n",
       "      <td>Barcelona</td>\n",
       "      <td>Basketball</td>\n",
       "      <td>Basketball Men's Basketball</td>\n",
       "      <td>NaN</td>\n",
       "    </tr>\n",
       "    <tr>\n",
       "      <th>1</th>\n",
       "      <td>2</td>\n",
       "      <td>A Lamusi</td>\n",
       "      <td>M</td>\n",
       "      <td>23.0</td>\n",
       "      <td>170.0</td>\n",
       "      <td>60.0</td>\n",
       "      <td>China</td>\n",
       "      <td>CHN</td>\n",
       "      <td>2012 Summer</td>\n",
       "      <td>2012</td>\n",
       "      <td>Summer</td>\n",
       "      <td>London</td>\n",
       "      <td>Judo</td>\n",
       "      <td>Judo Men's Extra-Lightweight</td>\n",
       "      <td>NaN</td>\n",
       "    </tr>\n",
       "    <tr>\n",
       "      <th>2</th>\n",
       "      <td>3</td>\n",
       "      <td>Gunnar Nielsen Aaby</td>\n",
       "      <td>M</td>\n",
       "      <td>24.0</td>\n",
       "      <td>NaN</td>\n",
       "      <td>NaN</td>\n",
       "      <td>Denmark</td>\n",
       "      <td>DEN</td>\n",
       "      <td>1920 Summer</td>\n",
       "      <td>1920</td>\n",
       "      <td>Summer</td>\n",
       "      <td>Antwerpen</td>\n",
       "      <td>Football</td>\n",
       "      <td>Football Men's Football</td>\n",
       "      <td>NaN</td>\n",
       "    </tr>\n",
       "    <tr>\n",
       "      <th>3</th>\n",
       "      <td>4</td>\n",
       "      <td>Edgar Lindenau Aabye</td>\n",
       "      <td>M</td>\n",
       "      <td>34.0</td>\n",
       "      <td>NaN</td>\n",
       "      <td>NaN</td>\n",
       "      <td>Denmark/Sweden</td>\n",
       "      <td>DEN</td>\n",
       "      <td>1900 Summer</td>\n",
       "      <td>1900</td>\n",
       "      <td>Summer</td>\n",
       "      <td>Paris</td>\n",
       "      <td>Tug-Of-War</td>\n",
       "      <td>Tug-Of-War Men's Tug-Of-War</td>\n",
       "      <td>Gold</td>\n",
       "    </tr>\n",
       "    <tr>\n",
       "      <th>4</th>\n",
       "      <td>5</td>\n",
       "      <td>Christine Jacoba Aaftink</td>\n",
       "      <td>F</td>\n",
       "      <td>21.0</td>\n",
       "      <td>185.0</td>\n",
       "      <td>82.0</td>\n",
       "      <td>Netherlands</td>\n",
       "      <td>NED</td>\n",
       "      <td>1988 Winter</td>\n",
       "      <td>1988</td>\n",
       "      <td>Winter</td>\n",
       "      <td>Calgary</td>\n",
       "      <td>Speed Skating</td>\n",
       "      <td>Speed Skating Women's 500 metres</td>\n",
       "      <td>NaN</td>\n",
       "    </tr>\n",
       "  </tbody>\n",
       "</table>\n",
       "</div>"
      ],
      "text/plain": [
       "   ID                      Name Sex   Age  Height  Weight            Team  \\\n",
       "0   1                 A Dijiang   M  24.0   180.0    80.0           China   \n",
       "1   2                  A Lamusi   M  23.0   170.0    60.0           China   \n",
       "2   3       Gunnar Nielsen Aaby   M  24.0     NaN     NaN         Denmark   \n",
       "3   4      Edgar Lindenau Aabye   M  34.0     NaN     NaN  Denmark/Sweden   \n",
       "4   5  Christine Jacoba Aaftink   F  21.0   185.0    82.0     Netherlands   \n",
       "\n",
       "   NOC        Games  Year  Season       City          Sport  \\\n",
       "0  CHN  1992 Summer  1992  Summer  Barcelona     Basketball   \n",
       "1  CHN  2012 Summer  2012  Summer     London           Judo   \n",
       "2  DEN  1920 Summer  1920  Summer  Antwerpen       Football   \n",
       "3  DEN  1900 Summer  1900  Summer      Paris     Tug-Of-War   \n",
       "4  NED  1988 Winter  1988  Winter    Calgary  Speed Skating   \n",
       "\n",
       "                              Event Medal  \n",
       "0       Basketball Men's Basketball   NaN  \n",
       "1      Judo Men's Extra-Lightweight   NaN  \n",
       "2           Football Men's Football   NaN  \n",
       "3       Tug-Of-War Men's Tug-Of-War  Gold  \n",
       "4  Speed Skating Women's 500 metres   NaN  "
      ]
     },
     "execution_count": 58,
     "metadata": {},
     "output_type": "execute_result"
    }
   ],
   "source": [
    "athletes.head()"
   ]
  },
  {
   "cell_type": "code",
   "execution_count": 59,
   "id": "bfe8b957-96be-42f5-93db-8692c15f2755",
   "metadata": {},
   "outputs": [
    {
     "data": {
      "text/html": [
       "<div>\n",
       "<style scoped>\n",
       "    .dataframe tbody tr th:only-of-type {\n",
       "        vertical-align: middle;\n",
       "    }\n",
       "\n",
       "    .dataframe tbody tr th {\n",
       "        vertical-align: top;\n",
       "    }\n",
       "\n",
       "    .dataframe thead th {\n",
       "        text-align: right;\n",
       "    }\n",
       "</style>\n",
       "<table border=\"1\" class=\"dataframe\">\n",
       "  <thead>\n",
       "    <tr style=\"text-align: right;\">\n",
       "      <th></th>\n",
       "      <th>NOC</th>\n",
       "      <th>region</th>\n",
       "      <th>notes</th>\n",
       "    </tr>\n",
       "  </thead>\n",
       "  <tbody>\n",
       "    <tr>\n",
       "      <th>0</th>\n",
       "      <td>AFG</td>\n",
       "      <td>Afghanistan</td>\n",
       "      <td>NaN</td>\n",
       "    </tr>\n",
       "    <tr>\n",
       "      <th>1</th>\n",
       "      <td>AHO</td>\n",
       "      <td>Curacao</td>\n",
       "      <td>Netherlands Antilles</td>\n",
       "    </tr>\n",
       "    <tr>\n",
       "      <th>2</th>\n",
       "      <td>ALB</td>\n",
       "      <td>Albania</td>\n",
       "      <td>NaN</td>\n",
       "    </tr>\n",
       "    <tr>\n",
       "      <th>3</th>\n",
       "      <td>ALG</td>\n",
       "      <td>Algeria</td>\n",
       "      <td>NaN</td>\n",
       "    </tr>\n",
       "    <tr>\n",
       "      <th>4</th>\n",
       "      <td>AND</td>\n",
       "      <td>Andorra</td>\n",
       "      <td>NaN</td>\n",
       "    </tr>\n",
       "  </tbody>\n",
       "</table>\n",
       "</div>"
      ],
      "text/plain": [
       "   NOC       region                 notes\n",
       "0  AFG  Afghanistan                   NaN\n",
       "1  AHO      Curacao  Netherlands Antilles\n",
       "2  ALB      Albania                   NaN\n",
       "3  ALG      Algeria                   NaN\n",
       "4  AND      Andorra                   NaN"
      ]
     },
     "execution_count": 59,
     "metadata": {},
     "output_type": "execute_result"
    }
   ],
   "source": [
    "regions.head()"
   ]
  },
  {
   "cell_type": "markdown",
   "id": "38b34a63-17e3-4d65-9bea-fb4f02138e65",
   "metadata": {},
   "source": [
    "### Merging the Datasets"
   ]
  },
  {
   "cell_type": "code",
   "execution_count": 60,
   "id": "4ee0ddd9-e784-474b-a598-476c4306e06e",
   "metadata": {},
   "outputs": [],
   "source": [
    "# Merging the datasets on the 'NOC' column\n",
    "merged_data = pd.merge(athletes, regions, on='NOC', how='left')"
   ]
  },
  {
   "cell_type": "code",
   "execution_count": 61,
   "id": "11281101-b870-490d-acee-cce0e9cdb1a3",
   "metadata": {},
   "outputs": [
    {
     "data": {
      "text/html": [
       "<div>\n",
       "<style scoped>\n",
       "    .dataframe tbody tr th:only-of-type {\n",
       "        vertical-align: middle;\n",
       "    }\n",
       "\n",
       "    .dataframe tbody tr th {\n",
       "        vertical-align: top;\n",
       "    }\n",
       "\n",
       "    .dataframe thead th {\n",
       "        text-align: right;\n",
       "    }\n",
       "</style>\n",
       "<table border=\"1\" class=\"dataframe\">\n",
       "  <thead>\n",
       "    <tr style=\"text-align: right;\">\n",
       "      <th></th>\n",
       "      <th>ID</th>\n",
       "      <th>Name</th>\n",
       "      <th>Sex</th>\n",
       "      <th>Age</th>\n",
       "      <th>Height</th>\n",
       "      <th>Weight</th>\n",
       "      <th>Team</th>\n",
       "      <th>NOC</th>\n",
       "      <th>Games</th>\n",
       "      <th>Year</th>\n",
       "      <th>Season</th>\n",
       "      <th>City</th>\n",
       "      <th>Sport</th>\n",
       "      <th>Event</th>\n",
       "      <th>Medal</th>\n",
       "      <th>region</th>\n",
       "      <th>notes</th>\n",
       "    </tr>\n",
       "  </thead>\n",
       "  <tbody>\n",
       "    <tr>\n",
       "      <th>0</th>\n",
       "      <td>1</td>\n",
       "      <td>A Dijiang</td>\n",
       "      <td>M</td>\n",
       "      <td>24.0</td>\n",
       "      <td>180.0</td>\n",
       "      <td>80.0</td>\n",
       "      <td>China</td>\n",
       "      <td>CHN</td>\n",
       "      <td>1992 Summer</td>\n",
       "      <td>1992</td>\n",
       "      <td>Summer</td>\n",
       "      <td>Barcelona</td>\n",
       "      <td>Basketball</td>\n",
       "      <td>Basketball Men's Basketball</td>\n",
       "      <td>NaN</td>\n",
       "      <td>China</td>\n",
       "      <td>NaN</td>\n",
       "    </tr>\n",
       "    <tr>\n",
       "      <th>1</th>\n",
       "      <td>2</td>\n",
       "      <td>A Lamusi</td>\n",
       "      <td>M</td>\n",
       "      <td>23.0</td>\n",
       "      <td>170.0</td>\n",
       "      <td>60.0</td>\n",
       "      <td>China</td>\n",
       "      <td>CHN</td>\n",
       "      <td>2012 Summer</td>\n",
       "      <td>2012</td>\n",
       "      <td>Summer</td>\n",
       "      <td>London</td>\n",
       "      <td>Judo</td>\n",
       "      <td>Judo Men's Extra-Lightweight</td>\n",
       "      <td>NaN</td>\n",
       "      <td>China</td>\n",
       "      <td>NaN</td>\n",
       "    </tr>\n",
       "    <tr>\n",
       "      <th>2</th>\n",
       "      <td>3</td>\n",
       "      <td>Gunnar Nielsen Aaby</td>\n",
       "      <td>M</td>\n",
       "      <td>24.0</td>\n",
       "      <td>NaN</td>\n",
       "      <td>NaN</td>\n",
       "      <td>Denmark</td>\n",
       "      <td>DEN</td>\n",
       "      <td>1920 Summer</td>\n",
       "      <td>1920</td>\n",
       "      <td>Summer</td>\n",
       "      <td>Antwerpen</td>\n",
       "      <td>Football</td>\n",
       "      <td>Football Men's Football</td>\n",
       "      <td>NaN</td>\n",
       "      <td>Denmark</td>\n",
       "      <td>NaN</td>\n",
       "    </tr>\n",
       "    <tr>\n",
       "      <th>3</th>\n",
       "      <td>4</td>\n",
       "      <td>Edgar Lindenau Aabye</td>\n",
       "      <td>M</td>\n",
       "      <td>34.0</td>\n",
       "      <td>NaN</td>\n",
       "      <td>NaN</td>\n",
       "      <td>Denmark/Sweden</td>\n",
       "      <td>DEN</td>\n",
       "      <td>1900 Summer</td>\n",
       "      <td>1900</td>\n",
       "      <td>Summer</td>\n",
       "      <td>Paris</td>\n",
       "      <td>Tug-Of-War</td>\n",
       "      <td>Tug-Of-War Men's Tug-Of-War</td>\n",
       "      <td>Gold</td>\n",
       "      <td>Denmark</td>\n",
       "      <td>NaN</td>\n",
       "    </tr>\n",
       "    <tr>\n",
       "      <th>4</th>\n",
       "      <td>5</td>\n",
       "      <td>Christine Jacoba Aaftink</td>\n",
       "      <td>F</td>\n",
       "      <td>21.0</td>\n",
       "      <td>185.0</td>\n",
       "      <td>82.0</td>\n",
       "      <td>Netherlands</td>\n",
       "      <td>NED</td>\n",
       "      <td>1988 Winter</td>\n",
       "      <td>1988</td>\n",
       "      <td>Winter</td>\n",
       "      <td>Calgary</td>\n",
       "      <td>Speed Skating</td>\n",
       "      <td>Speed Skating Women's 500 metres</td>\n",
       "      <td>NaN</td>\n",
       "      <td>Netherlands</td>\n",
       "      <td>NaN</td>\n",
       "    </tr>\n",
       "  </tbody>\n",
       "</table>\n",
       "</div>"
      ],
      "text/plain": [
       "   ID                      Name Sex   Age  Height  Weight            Team  \\\n",
       "0   1                 A Dijiang   M  24.0   180.0    80.0           China   \n",
       "1   2                  A Lamusi   M  23.0   170.0    60.0           China   \n",
       "2   3       Gunnar Nielsen Aaby   M  24.0     NaN     NaN         Denmark   \n",
       "3   4      Edgar Lindenau Aabye   M  34.0     NaN     NaN  Denmark/Sweden   \n",
       "4   5  Christine Jacoba Aaftink   F  21.0   185.0    82.0     Netherlands   \n",
       "\n",
       "   NOC        Games  Year  Season       City          Sport  \\\n",
       "0  CHN  1992 Summer  1992  Summer  Barcelona     Basketball   \n",
       "1  CHN  2012 Summer  2012  Summer     London           Judo   \n",
       "2  DEN  1920 Summer  1920  Summer  Antwerpen       Football   \n",
       "3  DEN  1900 Summer  1900  Summer      Paris     Tug-Of-War   \n",
       "4  NED  1988 Winter  1988  Winter    Calgary  Speed Skating   \n",
       "\n",
       "                              Event Medal       region notes  \n",
       "0       Basketball Men's Basketball   NaN        China   NaN  \n",
       "1      Judo Men's Extra-Lightweight   NaN        China   NaN  \n",
       "2           Football Men's Football   NaN      Denmark   NaN  \n",
       "3       Tug-Of-War Men's Tug-Of-War  Gold      Denmark   NaN  \n",
       "4  Speed Skating Women's 500 metres   NaN  Netherlands   NaN  "
      ]
     },
     "execution_count": 61,
     "metadata": {},
     "output_type": "execute_result"
    }
   ],
   "source": [
    "merged_data.head()"
   ]
  },
  {
   "cell_type": "code",
   "execution_count": 62,
   "id": "93c5feb0-99c7-4ac6-b583-7d8336096d61",
   "metadata": {},
   "outputs": [
    {
     "name": "stdout",
     "output_type": "stream",
     "text": [
      "notes     98.141386\n",
      "Medal     85.326207\n",
      "Weight    23.191180\n",
      "Height    22.193821\n",
      "Age        3.494445\n",
      "region     0.136473\n",
      "Season     0.000000\n",
      "Event      0.000000\n",
      "Sport      0.000000\n",
      "City       0.000000\n",
      "ID         0.000000\n",
      "Year       0.000000\n",
      "Name       0.000000\n",
      "NOC        0.000000\n",
      "Team       0.000000\n",
      "Sex        0.000000\n",
      "Games      0.000000\n",
      "dtype: float64\n"
     ]
    }
   ],
   "source": [
    "# Calculate the percentage of missing values for each column\n",
    "missing_percentages = (merged_data.isnull().sum() / len(merged_data)) * 100\n",
    "\n",
    "# Display the percentages in a more readable format\n",
    "print(missing_percentages.sort_values(ascending=False))\n"
   ]
  },
  {
   "cell_type": "markdown",
   "id": "5a5c2458-da40-40e9-8d47-9f623b085b1e",
   "metadata": {},
   "source": [
    "## Missing Data Analysis\n",
    "\n",
    "After merging the datasets and calculating the percentage of missing values for each column, I have found several issues.\n",
    "\n",
    "- **Notes**: Missing in 98.14% of entries. Almost most of the column is mising. Therefore I decided to drop it out.\n",
    "\n",
    "- **Medal**: 85.32% missing. This high rate represents the athletes who  did not win a medal. I am going to fill these as \"None\".\n",
    "- **Weight**: 23.19% missing. This is a significant portion of the data.  I am going to impute these missing values using the  mean weight grouped by sport can help maintain data integrity.\n",
    "\n",
    "- **Height**: 22.39% missing. Similar to weight, a substantial amount of height data is missing. I will impute these values using the  mean height by sport , as physical attributes will be significantly different among different sports.\n",
    "\n",
    "- **Age**: 3.19% missing. A smaller portion of the age data is missing. I am going to impute this column as median as it is only 3% of data. \n",
    "\n",
    "- **Region**: 0.13% missing. This is a very small percentage. Which is not that important but I will check the NOC codes and fill these regions."
   ]
  },
  {
   "cell_type": "markdown",
   "id": "d9af0f16-4d7e-475c-a689-0617f8b45de2",
   "metadata": {},
   "source": [
    "## Imputing Missing values"
   ]
  },
  {
   "cell_type": "markdown",
   "id": "1e810dc8-1779-426e-b658-9af33acff62f",
   "metadata": {},
   "source": [
    "- I am going to start imputing with regions."
   ]
  },
  {
   "cell_type": "code",
   "execution_count": 63,
   "id": "021e7b17-0d67-494c-885b-f175ba1fdc5a",
   "metadata": {},
   "outputs": [],
   "source": [
    "missing_regions = merged_data[merged_data['region'].isna()]\n"
   ]
  },
  {
   "cell_type": "code",
   "execution_count": 64,
   "id": "6124a742-f6d9-43e1-a256-45101b15a196",
   "metadata": {},
   "outputs": [
    {
     "data": {
      "text/plain": [
       "array(['SGP', 'ROT', 'UNK', 'TUV'], dtype=object)"
      ]
     },
     "execution_count": 64,
     "metadata": {},
     "output_type": "execute_result"
    }
   ],
   "source": [
    "unique_nocs = missing_regions['NOC'].unique()\n",
    "unique_nocs"
   ]
  },
  {
   "cell_type": "code",
   "execution_count": 65,
   "id": "93469bf7-494b-437a-a5ba-f7cc689a3a86",
   "metadata": {},
   "outputs": [
    {
     "data": {
      "text/html": [
       "<div>\n",
       "<style scoped>\n",
       "    .dataframe tbody tr th:only-of-type {\n",
       "        vertical-align: middle;\n",
       "    }\n",
       "\n",
       "    .dataframe tbody tr th {\n",
       "        vertical-align: top;\n",
       "    }\n",
       "\n",
       "    .dataframe thead th {\n",
       "        text-align: right;\n",
       "    }\n",
       "</style>\n",
       "<table border=\"1\" class=\"dataframe\">\n",
       "  <thead>\n",
       "    <tr style=\"text-align: right;\">\n",
       "      <th></th>\n",
       "      <th>ID</th>\n",
       "      <th>Name</th>\n",
       "      <th>Sex</th>\n",
       "      <th>Age</th>\n",
       "      <th>Height</th>\n",
       "      <th>Weight</th>\n",
       "      <th>Team</th>\n",
       "      <th>NOC</th>\n",
       "      <th>Games</th>\n",
       "      <th>Year</th>\n",
       "      <th>Season</th>\n",
       "      <th>City</th>\n",
       "      <th>Sport</th>\n",
       "      <th>Event</th>\n",
       "      <th>Medal</th>\n",
       "      <th>region</th>\n",
       "      <th>notes</th>\n",
       "    </tr>\n",
       "  </thead>\n",
       "  <tbody>\n",
       "    <tr>\n",
       "      <th>61080</th>\n",
       "      <td>31292</td>\n",
       "      <td>Fritz Eccard</td>\n",
       "      <td>M</td>\n",
       "      <td>NaN</td>\n",
       "      <td>NaN</td>\n",
       "      <td>NaN</td>\n",
       "      <td>Unknown</td>\n",
       "      <td>UNK</td>\n",
       "      <td>1912 Summer</td>\n",
       "      <td>1912</td>\n",
       "      <td>Summer</td>\n",
       "      <td>Stockholm</td>\n",
       "      <td>Art Competitions</td>\n",
       "      <td>Art Competitions Mixed Architecture</td>\n",
       "      <td>NaN</td>\n",
       "      <td>NaN</td>\n",
       "      <td>Unknown</td>\n",
       "    </tr>\n",
       "    <tr>\n",
       "      <th>130721</th>\n",
       "      <td>65813</td>\n",
       "      <td>A. Laffen</td>\n",
       "      <td>M</td>\n",
       "      <td>NaN</td>\n",
       "      <td>NaN</td>\n",
       "      <td>NaN</td>\n",
       "      <td>Unknown</td>\n",
       "      <td>UNK</td>\n",
       "      <td>1912 Summer</td>\n",
       "      <td>1912</td>\n",
       "      <td>Summer</td>\n",
       "      <td>Stockholm</td>\n",
       "      <td>Art Competitions</td>\n",
       "      <td>Art Competitions Mixed Architecture</td>\n",
       "      <td>NaN</td>\n",
       "      <td>NaN</td>\n",
       "      <td>Unknown</td>\n",
       "    </tr>\n",
       "  </tbody>\n",
       "</table>\n",
       "</div>"
      ],
      "text/plain": [
       "           ID          Name Sex  Age  Height  Weight     Team  NOC  \\\n",
       "61080   31292  Fritz Eccard   M  NaN     NaN     NaN  Unknown  UNK   \n",
       "130721  65813     A. Laffen   M  NaN     NaN     NaN  Unknown  UNK   \n",
       "\n",
       "              Games  Year  Season       City             Sport  \\\n",
       "61080   1912 Summer  1912  Summer  Stockholm  Art Competitions   \n",
       "130721  1912 Summer  1912  Summer  Stockholm  Art Competitions   \n",
       "\n",
       "                                      Event Medal region    notes  \n",
       "61080   Art Competitions Mixed Architecture   NaN    NaN  Unknown  \n",
       "130721  Art Competitions Mixed Architecture   NaN    NaN  Unknown  "
      ]
     },
     "execution_count": 65,
     "metadata": {},
     "output_type": "execute_result"
    }
   ],
   "source": [
    "unk_rows = merged_data[merged_data['NOC'] == 'UNK']\n",
    "\n",
    "# Display the rows with 'UNK' as the region\n",
    "unk_rows"
   ]
  },
  {
   "cell_type": "code",
   "execution_count": 66,
   "id": "c86b8237-7c5c-497b-8b87-8dd0483cd21a",
   "metadata": {},
   "outputs": [
    {
     "name": "stdout",
     "output_type": "stream",
     "text": [
      "0.0\n"
     ]
    }
   ],
   "source": [
    "region_updates = {\n",
    "    'SGP': 'Singapore',   \n",
    "    'ROT': 'Refugee Olympic Team',\n",
    "    'UNK': 'Unknown',\n",
    "    'TUV': 'Tuvalu'       \n",
    "}\n",
    "\n",
    "# Apply the updates to the 'region' column based on NOC codes\n",
    "for noc, region in region_updates.items():\n",
    "    merged_data.loc[merged_data['NOC'] == noc, 'region'] = region\n",
    "\n",
    "# Re-check if there are still missing values in the 'region' column\n",
    "print((merged_data['region'].isnull().sum() / len(merged_data)) * 100)"
   ]
  },
  {
   "cell_type": "code",
   "execution_count": 67,
   "id": "86ca0d8e-0a8a-4aee-9a4f-9dc1b8caccb1",
   "metadata": {},
   "outputs": [],
   "source": [
    "# 1. Drop the 'Notes' column\n",
    "merged_data.drop(columns='notes', inplace=True)\n",
    "\n",
    "# 2. Fill missing 'Medal' values with 'None'\n",
    "merged_data['Medal'].fillna('None', inplace=True)\n",
    "\n",
    "# 3. Impute missing 'Weight' using the mean weight grouped by 'Sport' and \n",
    "merged_data['Weight'] = merged_data.groupby('Sport')['Weight'].transform(lambda x: x.fillna(x.mean()))\n",
    "\n",
    "# 4. Impute missing 'Height' using the mean height grouped by 'Sport' and \n",
    "merged_data['Height'] = merged_data.groupby('Sport')['Height'].transform(lambda x: x.fillna(x.mean()))\n",
    "\n",
    "# 5. Impute missing 'Age' using the median age\n",
    "merged_data['Age'].fillna(merged_data['Age'].median(), inplace=True)"
   ]
  },
  {
   "cell_type": "code",
   "execution_count": 68,
   "id": "15db6088-e08d-4d5f-bb84-44d49704b4fb",
   "metadata": {},
   "outputs": [
    {
     "name": "stdout",
     "output_type": "stream",
     "text": [
      "ID          0\n",
      "Name        0\n",
      "Sex         0\n",
      "Age         0\n",
      "Height     99\n",
      "Weight    217\n",
      "Team        0\n",
      "NOC         0\n",
      "Games       0\n",
      "Year        0\n",
      "Season      0\n",
      "City        0\n",
      "Sport       0\n",
      "Event       0\n",
      "Medal       0\n",
      "region      0\n",
      "dtype: int64\n"
     ]
    }
   ],
   "source": [
    "print(merged_data.isnull().sum())"
   ]
  },
  {
   "cell_type": "markdown",
   "id": "b0e787e2-a987-420b-8a73-053d9c307ce9",
   "metadata": {},
   "source": [
    "It's possible that some sports have all their Height or Weight data missing. If any of the athletes in a particular sport have recorded weights or heights, the mean calculation will return Nan. Lets check if it is true or not."
   ]
  },
  {
   "cell_type": "code",
   "execution_count": 69,
   "id": "5e6de9c2-b82e-480d-b1e7-c39ca9a26a8e",
   "metadata": {},
   "outputs": [],
   "source": [
    "# Count non-missing 'Height' and 'Weight' values for each sport\n",
    "height_counts = merged_data.groupby('Sport')['Height'].count().reset_index(name='Height Non-Missing Count')\n",
    "weight_counts = merged_data.groupby('Sport')['Weight'].count().reset_index(name='Weight Non-Missing Count')\n",
    "\n",
    "# Merge the counts back for comparison\n",
    "counts_per_sport = pd.merge(height_counts, weight_counts, on='Sport')"
   ]
  },
  {
   "cell_type": "code",
   "execution_count": 70,
   "id": "55704e41-77e5-4cea-aef5-7769b936dd81",
   "metadata": {},
   "outputs": [
    {
     "name": "stdout",
     "output_type": "stream",
     "text": [
      "Sports with no recorded Height data: ['Aeronautics', 'Alpinism', 'Basque Pelota', 'Cricket', 'Croquet', 'Military Ski Patrol', 'Roque']\n",
      "Sports with no recorded Weight data: ['Aeronautics', 'Alpinism', 'Basque Pelota', 'Cricket', 'Croquet', 'Jeu De Paume', 'Military Ski Patrol', 'Polo', 'Racquets', 'Roque']\n"
     ]
    }
   ],
   "source": [
    "# Filter to find sports with no non-missing 'Height' or 'Weight' data\n",
    "no_height_data_sports = counts_per_sport[counts_per_sport['Height Non-Missing Count'] == 0]\n",
    "no_weight_data_sports = counts_per_sport[counts_per_sport['Weight Non-Missing Count'] == 0]\n",
    "\n",
    "# Display the sports with no recorded 'Height' or 'Weight'\n",
    "print(\"Sports with no recorded Height data:\", no_height_data_sports['Sport'].tolist())\n",
    "print(\"Sports with no recorded Weight data:\", no_weight_data_sports['Sport'].tolist())"
   ]
  },
  {
   "cell_type": "markdown",
   "id": "000c8978-de98-4f77-a868-b11f8ce4679e",
   "metadata": {},
   "source": [
    "There are several sports that does not have any weight and height data. I am going to impute these as general median of the height and weight."
   ]
  },
  {
   "cell_type": "code",
   "execution_count": 71,
   "id": "fb68f6cb-0b4e-4702-b535-b32a4e2373b5",
   "metadata": {},
   "outputs": [],
   "source": [
    "\n",
    "if merged_data['Height'].isnull().any():\n",
    "    overall_median_height = merged_data['Height'].median()\n",
    "    merged_data['Height'].fillna(overall_median_height, inplace=True)\n",
    "\n",
    "if merged_data['Weight'].isnull().any():\n",
    "    overall_median_weight = merged_data['Weight'].median()\n",
    "    merged_data['Weight'].fillna(overall_median_weight, inplace=True)"
   ]
  },
  {
   "cell_type": "code",
   "execution_count": 72,
   "id": "a6f954eb-aa13-4d75-9ecd-3ce00a64d320",
   "metadata": {},
   "outputs": [
    {
     "name": "stdout",
     "output_type": "stream",
     "text": [
      "ID        0\n",
      "Name      0\n",
      "Sex       0\n",
      "Age       0\n",
      "Height    0\n",
      "Weight    0\n",
      "Team      0\n",
      "NOC       0\n",
      "Games     0\n",
      "Year      0\n",
      "Season    0\n",
      "City      0\n",
      "Sport     0\n",
      "Event     0\n",
      "Medal     0\n",
      "region    0\n",
      "dtype: int64\n"
     ]
    }
   ],
   "source": [
    "print(merged_data.isnull().sum())"
   ]
  },
  {
   "cell_type": "markdown",
   "id": "74eafaaa-7dab-4304-ab3e-7df1a646139a",
   "metadata": {},
   "source": [
    "- All of the missing values are now imputed."
   ]
  },
  {
   "cell_type": "markdown",
   "id": "99814ec8-f50f-4443-adf2-24be63f8fd2a",
   "metadata": {},
   "source": [
    "## Statistics"
   ]
  },
  {
   "cell_type": "code",
   "execution_count": 73,
   "id": "bc8dccde-72d8-4e37-bbe2-5d8ddc73f836",
   "metadata": {},
   "outputs": [
    {
     "data": {
      "text/html": [
       "<div>\n",
       "<style scoped>\n",
       "    .dataframe tbody tr th:only-of-type {\n",
       "        vertical-align: middle;\n",
       "    }\n",
       "\n",
       "    .dataframe tbody tr th {\n",
       "        vertical-align: top;\n",
       "    }\n",
       "\n",
       "    .dataframe thead th {\n",
       "        text-align: right;\n",
       "    }\n",
       "</style>\n",
       "<table border=\"1\" class=\"dataframe\">\n",
       "  <thead>\n",
       "    <tr style=\"text-align: right;\">\n",
       "      <th></th>\n",
       "      <th>ID</th>\n",
       "      <th>Age</th>\n",
       "      <th>Height</th>\n",
       "      <th>Weight</th>\n",
       "      <th>Year</th>\n",
       "    </tr>\n",
       "  </thead>\n",
       "  <tbody>\n",
       "    <tr>\n",
       "      <th>count</th>\n",
       "      <td>271116.000000</td>\n",
       "      <td>271116.000000</td>\n",
       "      <td>271116.000000</td>\n",
       "      <td>271116.000000</td>\n",
       "      <td>271116.000000</td>\n",
       "    </tr>\n",
       "    <tr>\n",
       "      <th>mean</th>\n",
       "      <td>68248.954396</td>\n",
       "      <td>25.502493</td>\n",
       "      <td>175.132829</td>\n",
       "      <td>70.606476</td>\n",
       "      <td>1978.378480</td>\n",
       "    </tr>\n",
       "    <tr>\n",
       "      <th>std</th>\n",
       "      <td>39022.286345</td>\n",
       "      <td>6.287361</td>\n",
       "      <td>9.684578</td>\n",
       "      <td>13.063048</td>\n",
       "      <td>29.877632</td>\n",
       "    </tr>\n",
       "    <tr>\n",
       "      <th>min</th>\n",
       "      <td>1.000000</td>\n",
       "      <td>10.000000</td>\n",
       "      <td>127.000000</td>\n",
       "      <td>25.000000</td>\n",
       "      <td>1896.000000</td>\n",
       "    </tr>\n",
       "    <tr>\n",
       "      <th>25%</th>\n",
       "      <td>34643.000000</td>\n",
       "      <td>22.000000</td>\n",
       "      <td>169.000000</td>\n",
       "      <td>62.000000</td>\n",
       "      <td>1960.000000</td>\n",
       "    </tr>\n",
       "    <tr>\n",
       "      <th>50%</th>\n",
       "      <td>68205.000000</td>\n",
       "      <td>24.000000</td>\n",
       "      <td>175.000000</td>\n",
       "      <td>70.000000</td>\n",
       "      <td>1988.000000</td>\n",
       "    </tr>\n",
       "    <tr>\n",
       "      <th>75%</th>\n",
       "      <td>102097.250000</td>\n",
       "      <td>28.000000</td>\n",
       "      <td>181.000000</td>\n",
       "      <td>77.000000</td>\n",
       "      <td>2002.000000</td>\n",
       "    </tr>\n",
       "    <tr>\n",
       "      <th>max</th>\n",
       "      <td>135571.000000</td>\n",
       "      <td>97.000000</td>\n",
       "      <td>226.000000</td>\n",
       "      <td>214.000000</td>\n",
       "      <td>2016.000000</td>\n",
       "    </tr>\n",
       "  </tbody>\n",
       "</table>\n",
       "</div>"
      ],
      "text/plain": [
       "                  ID            Age         Height         Weight  \\\n",
       "count  271116.000000  271116.000000  271116.000000  271116.000000   \n",
       "mean    68248.954396      25.502493     175.132829      70.606476   \n",
       "std     39022.286345       6.287361       9.684578      13.063048   \n",
       "min         1.000000      10.000000     127.000000      25.000000   \n",
       "25%     34643.000000      22.000000     169.000000      62.000000   \n",
       "50%     68205.000000      24.000000     175.000000      70.000000   \n",
       "75%    102097.250000      28.000000     181.000000      77.000000   \n",
       "max    135571.000000      97.000000     226.000000     214.000000   \n",
       "\n",
       "                Year  \n",
       "count  271116.000000  \n",
       "mean     1978.378480  \n",
       "std        29.877632  \n",
       "min      1896.000000  \n",
       "25%      1960.000000  \n",
       "50%      1988.000000  \n",
       "75%      2002.000000  \n",
       "max      2016.000000  "
      ]
     },
     "execution_count": 73,
     "metadata": {},
     "output_type": "execute_result"
    }
   ],
   "source": [
    "merged_data.describe()\n"
   ]
  },
  {
   "cell_type": "code",
   "execution_count": 74,
   "id": "5aee2a7f-fbef-4327-aff8-524f3d451b9a",
   "metadata": {},
   "outputs": [],
   "source": [
    "females = merged_data[merged_data['Sex'] == 'F']"
   ]
  },
  {
   "cell_type": "code",
   "execution_count": 75,
   "id": "35446604-fd42-4324-a9f2-0bc9038a4e99",
   "metadata": {},
   "outputs": [
    {
     "name": "stdout",
     "output_type": "stream",
     "text": [
      "                Age        Height        Weight          Year\n",
      "count  74522.000000  74522.000000  74522.000000  74522.000000\n",
      "mean      23.734401    168.309158     60.776296   1992.445748\n",
      "std        5.778777      8.678878     10.174889     20.458993\n",
      "min       11.000000    127.000000     25.000000   1900.000000\n",
      "25%       20.000000    162.936020     55.000000   1984.000000\n",
      "50%       23.000000    168.000000     60.000000   1998.000000\n",
      "75%       27.000000    174.000000     67.000000   2008.000000\n",
      "max       74.000000    213.000000    167.000000   2016.000000\n"
     ]
    }
   ],
   "source": [
    "female_stats = females[['Age', 'Height', 'Weight', 'Year']].describe()\n",
    "print(female_stats)"
   ]
  },
  {
   "cell_type": "markdown",
   "id": "2db76999-24d8-493a-a9bf-1b9fdd1f0b5c",
   "metadata": {},
   "source": [
    "- **Age and General Statistics**: Female athletes have an average age of 23.77 years, with ages ranging from 11 to 74 years.\n",
    "- **Physical Dimensions**: The average height and weight are 168.37 cm and 60.77 kg respectively, with heights ranging from 127 to 213 cm and weights from 25 to 167 kg.\n",
    "- **Participation Year**: The data covers Olympic participation from 1900 to 2016, with a median year of 1998.\n",
    "\n"
   ]
  },
  {
   "cell_type": "code",
   "execution_count": 76,
   "id": "8a741eb4-d278-4f19-b549-b7ac2694afa8",
   "metadata": {},
   "outputs": [
    {
     "name": "stdout",
     "output_type": "stream",
     "text": [
      "Female Medal Distribution:\n",
      " Medal\n",
      "None      63269\n",
      "Bronze     3771\n",
      "Gold       3747\n",
      "Silver     3735\n",
      "Name: count, dtype: int64\n",
      "Number of different sports by females: 53\n",
      "Number of different events by females: 269\n"
     ]
    }
   ],
   "source": [
    "# Medal distribution for female athletes\n",
    "female_medal_distribution = females['Medal'].value_counts()\n",
    "print(\"Female Medal Distribution:\\n\", female_medal_distribution)\n",
    "\n",
    "# Number of different sports and events participated by females\n",
    "female_sports_count = females['Sport'].nunique()\n",
    "female_events_count = females['Event'].nunique()\n",
    "print(\"Number of different sports by females:\", female_sports_count)\n",
    "print(\"Number of different events by females:\", female_events_count)"
   ]
  },
  {
   "cell_type": "markdown",
   "id": "3067ec40-881f-4e5c-a03a-2dc399eda9fe",
   "metadata": {},
   "source": [
    "### References\r\n",
    "\r\n",
    "I used several resources to help with this project:\r\n",
    "\r\n",
    "- **AI Assistance**: I used OpenAI's ChatGPT to get ideas, solve problems, and improve my project. It helped me understand my data better and make my project stronger.\r\n",
    "- **Course Materials**: The lectures and materials from our class taught me how to manage and show my data. They were very important for doing my analysis.\r\n",
    "- **Online Resources**: I also looked at different websites and articles. They gave me more information about data science and sports, which helped me learn more about the Olympics and gender equallympics.\r\n"
   ]
  },
  {
   "cell_type": "code",
   "execution_count": 55,
   "id": "0c920998-9e67-4a46-8fed-e0ca714f7fb0",
   "metadata": {},
   "outputs": [],
   "source": [
    "merged_data.to_csv('merged_data.csv', index=False)"
   ]
  },
  {
   "cell_type": "code",
   "execution_count": null,
   "id": "7f6a83b7-d1c1-499d-943a-7c6aca87704b",
   "metadata": {},
   "outputs": [],
   "source": []
  }
 ],
 "metadata": {
  "kernelspec": {
   "display_name": "Python 3 (ipykernel)",
   "language": "python",
   "name": "python3"
  },
  "language_info": {
   "codemirror_mode": {
    "name": "ipython",
    "version": 3
   },
   "file_extension": ".py",
   "mimetype": "text/x-python",
   "name": "python",
   "nbconvert_exporter": "python",
   "pygments_lexer": "ipython3",
   "version": "3.12.4"
  }
 },
 "nbformat": 4,
 "nbformat_minor": 5
}
